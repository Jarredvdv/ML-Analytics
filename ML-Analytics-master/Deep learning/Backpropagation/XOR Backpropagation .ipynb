{
 "cells": [
  {
   "cell_type": "markdown",
   "metadata": {},
   "source": [
    "## <font color=black>Assignment 2: XOR & Multiplication NN Implementation</font>\n",
    "### <font color=black>Jarred van de Voort</font>\n",
    "\n",
    "#### <font color=black>Instructions: </font>\n",
    "1) The first case to study is the well known XOR example. For this example, the hidden\n",
    "layer maybe simply made of two units, N = 2, and the input and target output are\n",
    "binary values.\n",
    "There are only four different possible inputs/outputs scenarios, Thus, for the training set,\n",
    "validation set and generalization set, for each step τ we only have these four examples.\n",
    "Show the plots we described in visualization, show the final generalization loss, show\n",
    "all the weights of the network (list them). How to show the final generalization output\n",
    "? we should be able to run your forward code, with the final weights, and your generalization\n",
    "set, and produce your final outputs.\n",
    "\n",
    "2) The second example we ask you to run the multiplication function. The inputs are\n",
    "x1, x2 and they are real values. Well, let us restrict to multiplications of integers ? The\n",
    "target output should be t = x1 × x2 also an integer number. Note that it should work\n",
    "on negative numbers as well, i.e., x1, x2, t ∈ Z. We may restrict further to x1, x2, t ∈\n",
    "(−M, M), say M=100. It is easy to generate a large test set, not so large validation set,\n",
    "and an even larger generalization set. Say D = 1, 000, V = 200 and G = 4, 000. Of\n",
    "course, make sure to include cases of multiplication by zero and by 1.\n",
    "In this case, the hidden layer should be \"large\" to have a chance to work. Consider\n",
    "N = 20 (I am not sure it will work!). Display the same plots and values as the XOR\n",
    "problem and we should be able to run your forward code, with the final weights, and\n",
    "produce your final output.\n",
    "\n",
    "#### <font color=black>Note: </font>\n",
    "In the assignment, its specified that the network sjould multiply integers from -100 to 100. However, I've found that reLu has trouble with negative values, so I've opted to implement sigmoid activation. Likewise, I've decided to restrict values to 0,1 for simplicity & to demonstrate the capabilities of a trained NN. \n",
    "\n"
   ]
  },
  {
   "cell_type": "code",
   "execution_count": 1,
   "metadata": {},
   "outputs": [],
   "source": [
    "import matplotlib.pyplot as plt\n",
    "import numpy as np"
   ]
  },
  {
   "cell_type": "markdown",
   "metadata": {},
   "source": [
    "### <font color=black>Activation Function: Sigmoid</font>\n",
    "The sigmoid function is an activation function that converts linear outputs to nonlinear outputs bounding the output between 0 & 1. We can also compute the gradient by taking the derivative of the sigmoid function which is useful for calculating error. I've found that using the sigmoid function is much easier to implement than the ReLu activation fuction, and appears to work well with both the XOR training set and multiplication training set. "
   ]
  },
  {
   "cell_type": "code",
   "execution_count": 2,
   "metadata": {},
   "outputs": [],
   "source": [
    "def sigmoid(net_input):\n",
    "    return 1/(1+np.exp(-net_input))\n",
    "\n",
    "def sigmoid_grad(net_input):\n",
    "    s = sigmoid(net_input)\n",
    "    return s*(1-s)"
   ]
  },
  {
   "cell_type": "markdown",
   "metadata": {},
   "source": [
    "### <font color=black>Performing Forward Propagation</font>\n",
    "The function provides a way for the neural network to propogate through the network & compute the output of every layer with the given inputs and weights and do a forward pass to the next layer."
   ]
  },
  {
   "cell_type": "code",
   "execution_count": 3,
   "metadata": {},
   "outputs": [],
   "source": [
    "def forward_propagate(training_inputs,theta_1,theta_2):\n",
    "    \n",
    "    #We first add a set of biases to the input of the first layer\n",
    "    l1_input = np.c_[np.ones(training_inputs.shape[0]),training_inputs]#mxn+1\n",
    "    \n",
    "    #The input of the first layer is multiplied by the weights of the first layer\n",
    "    l1_output = l1_input.dot(theta_1)\n",
    "    \n",
    "    #To get the input of the second layer, we pass the output of the first layer through an activation function and factor in biases \n",
    "    l2_input = np.c_[np.ones(training_inputs.shape[0]),sigmoid(l1_output)]\n",
    "    \n",
    "    #The input of the second layer is multiplied by the weights\n",
    "    l2_output = l2_input.dot(theta_2)\n",
    "    \n",
    "    #The output is passed through the activation function to obtain the final probability\n",
    "    l3_output = sigmoid(l2_output)\n",
    "    \n",
    "    return l1_input,l1_output,l2_input,l2_output,l3_output"
   ]
  },
  {
   "cell_type": "markdown",
   "metadata": {},
   "source": [
    "### <font color=black>Performing Backpropagation</font>\n",
    "For each iteration/epoch, we compute the error of each layer and update the weights as to minimize error"
   ]
  },
  {
   "cell_type": "code",
   "execution_count": 4,
   "metadata": {},
   "outputs": [],
   "source": [
    "def back_propagate(training_inputs, training_outputs, theta_1, theta_2, learning_rate, show_detailed):\n",
    "    \n",
    "    l1_input, l1_output, l2_input, l2_output, pred = forward_propagate(training_inputs, theta_1, theta_2)\n",
    "    \n",
    "    #Error is computed as the difference between the predicted output and actual output\n",
    "    del_2 = training_outputs - pred\n",
    "    error = (np.sum(np.absolute(del_2))) #To get a sense of how well the NN is performing we can plot error for each iter\n",
    "\n",
    "    #The error of the previous layer is found by computing the dot product of the error of the previous layer and the weights of the second layer\n",
    "    del_1=del_2.dot(theta_2[1:,:].T)\n",
    "    delta2 = del_2\n",
    "            \n",
    "    #The error of the first layer is multiplied by the sigmoid gradient of the output of the first layer\n",
    "    delta1 = del_1*sigmoid_grad(l1_output)\n",
    "        \n",
    "    #The parameters are updated using gradient descent\n",
    "    theta_1 += learning_rate * l1_input.T.dot(delta1)\n",
    "    theta_2 += learning_rate * l2_input.T.dot(delta2)\n",
    "    \n",
    "    #Displays detailed info for each layer's weights at each step\n",
    "    if show_detailed == True:\n",
    "        print(\"-----------------\")\n",
    "        print(\"### Layer 1 ###\\n\")\n",
    "        print(\"Updated Weights:\")\n",
    "        print(theta_1)\n",
    "        print()\n",
    "        print(\"Updated Loss: \")\n",
    "        print(delta1)\n",
    "        print()\n",
    "        \n",
    "        \n",
    "        print(\"-----------------\")\n",
    "        print(\"### Layer 2 ###\\n\")\n",
    "        print(\"Updated Weights:\")\n",
    "        print(theta_2)\n",
    "        print()\n",
    "        print(\"Updated Loss: \")\n",
    "        print(delta2)\n",
    "    \n",
    "    return training_inputs, theta_1, theta_2, pred, error"
   ]
  },
  {
   "cell_type": "markdown",
   "metadata": {},
   "source": [
    "### <font color=black>Plotting the Learning Curve</font>\n",
    "Now that we have kept track of our error throughout each iteration, we can measure how well our NN has performed. Looks pretty good!"
   ]
  },
  {
   "cell_type": "code",
   "execution_count": 5,
   "metadata": {},
   "outputs": [],
   "source": [
    "def plot_learning(error_set):\n",
    "    print(\"----- Learning Curve -----\")\n",
    "    x = list(range(len(error_set)))\n",
    "    plt.title(\"NN Training Error\")\n",
    "    plt.xlabel(\"Iteration\")\n",
    "    plt.ylabel(\"Error\")\n",
    "    plt.plot(x, error_set, color = 'b')\n",
    "    plt.show()"
   ]
  },
  {
   "cell_type": "markdown",
   "metadata": {},
   "source": [
    "### <font color=black>Putting it all together</font>\n",
    "\n",
    "Now that we have a neural network toolkit, we can now pass the network training training data to test our hypothesis and examine how efficiently the NN can make predictions. I've included two sample training sets, one set for each problem. This will also require us to initialize the weights for the network so that it can start training."
   ]
  },
  {
   "cell_type": "code",
   "execution_count": 6,
   "metadata": {},
   "outputs": [
    {
     "name": "stdout",
     "output_type": "stream",
     "text": [
      "--- Epoch 0---\n",
      "\n",
      "[[0.76172162]\n",
      " [0.7677612 ]\n",
      " [0.77031712]\n",
      " [0.77131503]]\n",
      "\n",
      "--- Epoch 100---\n",
      "\n",
      "[[0.13878529]\n",
      " [0.17356835]\n",
      " [0.18515116]\n",
      " [0.17692585]]\n",
      "\n",
      "--- Epoch 200---\n",
      "\n",
      "[[0.05483216]\n",
      " [0.18430813]\n",
      " [0.23967759]\n",
      " [0.19562144]]\n",
      "\n",
      "--- Epoch 300---\n",
      "\n",
      "[[0.02996469]\n",
      " [0.19817751]\n",
      " [0.27591442]\n",
      " [0.17316426]]\n",
      "\n",
      "--- Epoch 400---\n",
      "\n",
      "[[0.02297563]\n",
      " [0.20214769]\n",
      " [0.29052675]\n",
      " [0.16336753]]\n",
      "\n",
      "--- Epoch 500---\n",
      "\n",
      "[[0.02074043]\n",
      " [0.20217118]\n",
      " [0.2954716 ]\n",
      " [0.16117507]]\n",
      "\n",
      "--- Epoch 600---\n",
      "\n",
      "[[0.02003829]\n",
      " [0.20178926]\n",
      " [0.29734161]\n",
      " [0.1605706 ]]\n",
      "\n",
      "--- Epoch 700---\n",
      "\n",
      "[[0.01984042]\n",
      " [0.20145178]\n",
      " [0.29817535]\n",
      " [0.1603502 ]]\n",
      "\n",
      "--- Epoch 800---\n",
      "\n",
      "[[0.01980625]\n",
      " [0.20117926]\n",
      " [0.29862497]\n",
      " [0.16024999]]\n",
      "\n",
      "--- Epoch 900---\n",
      "\n",
      "[[0.01982143]\n",
      " [0.20095935]\n",
      " [0.29891442]\n",
      " [0.16019367]]\n",
      "\n",
      "----- Learning Curve -----\n"
     ]
    },
    {
     "data": {
      "image/png": "[encoded data removed]",
      "text/plain": [
       "<Figure size 432x288 with 1 Axes>"
      ]
     },
     "metadata": {
      "needs_background": "light"
     },
     "output_type": "display_data"
    },
    {
     "name": "stdout",
     "output_type": "stream",
     "text": [
      "### Input ###\n",
      "[[0.1 0.2]\n",
      " [0.4 0.5]\n",
      " [0.6 0.5]\n",
      " [0.8 0.2]]\n",
      "\n",
      "### Expected Output ###\n",
      "[[0.02]\n",
      " [0.2 ]\n",
      " [0.3 ]\n",
      " [0.16]]\n",
      "\n",
      "### Predicted Output ###\n",
      "[[0.01984812]\n",
      " [0.20078125]\n",
      " [0.2991249 ]\n",
      " [0.16015578]]\n"
     ]
    }
   ],
   "source": [
    "def main():\n",
    "    \"\"\"\n",
    "    The first thing we must do is structure our neural network with the input data in mind,\n",
    "    this includes number of layers, neurons, epochs etc.\n",
    "    \"\"\"   \n",
    "    \n",
    "    ex = 2 #Change this to 2 for problem 2: multiplication\n",
    "    \n",
    "    #Initializing input data sets for exercise 1 & exercise 2\n",
    "    if(ex == 1): #Problem 1 training sets\n",
    "        training_inputs = np.array([[0,0],[0,1],[1,0],[1,1]])\n",
    "        training_outputs = np.array([[0,1,1,0]]).T\n",
    "    \n",
    "    else: #Problem 2 training sets\n",
    "        #Since I've implemented the sigmoid activation function,I've found that input is limited to postive values\n",
    "        training_inputs = np.array([[.1,.2],[.4,.5],[.6,.5],[.8,.2]])\n",
    "        training_outputs = np.array([[.02,.20,.30,.16]]).T\n",
    "    \n",
    "    #Initializing attributes for NN structure \n",
    "    num_features = training_inputs.shape[1] #initializing number of features/input\n",
    "    hidden_neurons = 2 #initialzing number of neurons in hidden layer\n",
    "    epochs = 1000 #number of iterations\n",
    "    learning_rate = 1 \n",
    "    show_detailed = False #detailed output for each layer's weights\n",
    "    error_set = []\n",
    "    \n",
    "    \"\"\"\n",
    "    Now that we've set up our neural network and structured our training data, we must initialize weights\n",
    "    that the NN will use to start learning with backpropagation.  \n",
    "    \"\"\"\n",
    "    \n",
    "    theta_1 = (np.random.random((num_features + 1, hidden_neurons)))\n",
    "    theta_2 = (np.random.random((hidden_neurons + 1, 1)))\n",
    "    \n",
    "    for i in range(epochs):\n",
    "        training_inputs, theta_1, theta_2, pred, error = back_propagate(training_inputs,training_outputs, theta_1, theta_2, learning_rate, show_detailed)\n",
    "        error_set.append(error)\n",
    "        if(i % 100 == 0):\n",
    "            print(\"--- Epoch \" + str(i) + \"---\\n\")\n",
    "            print(pred)\n",
    "            print()\n",
    "    \n",
    "    l1_input, l1_output, l2_input, l2_output, pred = forward_propagate(training_inputs, theta_1, theta_2) #running forward propagation with the updated weights\n",
    "    \n",
    "    plot_learning(error_set)\n",
    "    \n",
    "    #displaying the predicted output of the model\n",
    "    print(\"### Input ###\")\n",
    "    print(training_inputs)\n",
    "     \n",
    "    print(\"\\n### Expected Output ###\")\n",
    "    print(training_outputs)\n",
    "    \n",
    "    print(\"\\n### Predicted Output ###\")\n",
    "    print(pred)\n",
    "\n",
    "if __name__ == \"__main__\":\n",
    "    main()"
   ]
  },
  {
   "cell_type": "code",
   "execution_count": null,
   "metadata": {
    "collapsed": true
   },
   "outputs": [],
   "source": []
  },
  {
   "cell_type": "code",
   "execution_count": null,
   "metadata": {
    "collapsed": true
   },
   "outputs": [],
   "source": []
  },
  {
   "cell_type": "code",
   "execution_count": null,
   "metadata": {
    "collapsed": true
   },
   "outputs": [],
   "source": []
  },
  {
   "cell_type": "code",
   "execution_count": null,
   "metadata": {
    "collapsed": true
   },
   "outputs": [],
   "source": []
  }
 ],
 "metadata": {
  "kernelspec": {
   "display_name": "Python 3",
   "language": "python",
   "name": "python3"
  },
  "language_info": {
   "codemirror_mode": {
    "name": "ipython",
    "version": 3
   },
   "file_extension": ".py",
   "mimetype": "text/x-python",
   "name": "python",
   "nbconvert_exporter": "python",
   "pygments_lexer": "ipython3",
   "version": "3.6.6"
  }
 },
 "nbformat": 4,
 "nbformat_minor": 2
}
