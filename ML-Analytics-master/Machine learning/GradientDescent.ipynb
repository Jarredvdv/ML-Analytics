{
 "cells": [
  {
   "cell_type": "markdown",
   "metadata": {},
   "source": [
    "# Homework 1: Gradient Descent for Regression"
   ]
  },
  {
   "cell_type": "markdown",
   "metadata": {},
   "source": [
    "## Handing in\n",
    "* You are asked to hand in a filled in version of this Jupyter notebook file (you need to complete any \"...\" and answer all questions). The notebook\n",
    "should include your theoretical/manually calculated answers as well.\n",
    "* There will be \"assert\" commands throughout the notebook, these are meant to ensure that your solution is correct, but don't try to guess the solutions from them because they may be misleading.\n",
    "* **Late submissions will not be accepted.**"
   ]
  },
  {
   "cell_type": "code",
   "execution_count": 1,
   "metadata": {},
   "outputs": [],
   "source": [
    "import pandas as pd\n",
    "import numpy as np\n",
    "import matplotlib.pyplot as plt\n",
    "import math\n",
    "%matplotlib inline"
   ]
  },
  {
   "cell_type": "markdown",
   "metadata": {},
   "source": [
    "## Assignment"
   ]
  },
  {
   "cell_type": "markdown",
   "metadata": {},
   "source": [
    "Suppose you are buying a house and you want to know what a good market price would be. One way to do this is to first collect information on recent houses sold and make a model of\n",
    "housing prices. Below is a selection of the dataset (housing.txt) that came with this exercise:"
   ]
  },
  {
   "cell_type": "code",
   "execution_count": 2,
   "metadata": {},
   "outputs": [
    {
     "data": {
      "text/html": [
       "<div>\n",
       "<style scoped>\n",
       "    .dataframe tbody tr th:only-of-type {\n",
       "        vertical-align: middle;\n",
       "    }\n",
       "\n",
       "    .dataframe tbody tr th {\n",
       "        vertical-align: top;\n",
       "    }\n",
       "\n",
       "    .dataframe thead th {\n",
       "        text-align: right;\n",
       "    }\n",
       "</style>\n",
       "<table border=\"1\" class=\"dataframe\">\n",
       "  <thead>\n",
       "    <tr style=\"text-align: right;\">\n",
       "      <th></th>\n",
       "      <th>area</th>\n",
       "      <th>bedrooms</th>\n",
       "      <th>price</th>\n",
       "    </tr>\n",
       "  </thead>\n",
       "  <tbody>\n",
       "    <tr>\n",
       "      <th>0</th>\n",
       "      <td>2104</td>\n",
       "      <td>3</td>\n",
       "      <td>399900</td>\n",
       "    </tr>\n",
       "    <tr>\n",
       "      <th>1</th>\n",
       "      <td>1600</td>\n",
       "      <td>3</td>\n",
       "      <td>329900</td>\n",
       "    </tr>\n",
       "    <tr>\n",
       "      <th>2</th>\n",
       "      <td>2400</td>\n",
       "      <td>3</td>\n",
       "      <td>369000</td>\n",
       "    </tr>\n",
       "    <tr>\n",
       "      <th>3</th>\n",
       "      <td>1416</td>\n",
       "      <td>2</td>\n",
       "      <td>232000</td>\n",
       "    </tr>\n",
       "    <tr>\n",
       "      <th>4</th>\n",
       "      <td>3000</td>\n",
       "      <td>4</td>\n",
       "      <td>539900</td>\n",
       "    </tr>\n",
       "  </tbody>\n",
       "</table>\n",
       "</div>"
      ],
      "text/plain": [
       "   area  bedrooms   price\n",
       "0  2104         3  399900\n",
       "1  1600         3  329900\n",
       "2  2400         3  369000\n",
       "3  1416         2  232000\n",
       "4  3000         4  539900"
      ]
     },
     "execution_count": 2,
     "metadata": {},
     "output_type": "execute_result"
    }
   ],
   "source": [
    "df = pd.read_csv('housing.txt')\n",
    "df.head()"
   ]
  },
  {
   "cell_type": "code",
   "execution_count": 3,
   "metadata": {},
   "outputs": [
    {
     "data": {
      "text/plain": [
       "<matplotlib.collections.PathCollection at 0x11e4167b8>"
      ]
     },
     "execution_count": 3,
     "metadata": {},
     "output_type": "execute_result"
    },
    {
     "data": {
      "image/png": "[encoded data removed]",
      "text/plain": [
       "<Figure size 432x288 with 1 Axes>"
      ]
     },
     "metadata": {
      "needs_background": "light"
     },
     "output_type": "display_data"
    },
    {
     "data": {
      "image/png": "[encoded data removed]",
      "text/plain": [
       "<Figure size 432x288 with 1 Axes>"
      ]
     },
     "metadata": {
      "needs_background": "light"
     },
     "output_type": "display_data"
    }
   ],
   "source": [
    "area = df.loc[:,\"area\"]\n",
    "bedrooms = df.loc[:,\"bedrooms\"]\n",
    "price = df.loc[:,\"price\"]\n",
    "\n",
    "plt.figure(0) \n",
    "plt.title(\"Area vs. Price\")\n",
    "plt.ylabel(\"Price\")\n",
    "plt.scatter(area, price, alpha=0.7)\n",
    "plt.figure(1) \n",
    "plt.title(\"Bedrooms vs. Price\")\n",
    "plt.xlabel(\"Number of Bedrooms\")\n",
    "plt.ylabel(\"Price\")\n",
    "plt.scatter(bedrooms, price, alpha=0.7)"
   ]
  },
  {
   "cell_type": "markdown",
   "metadata": {},
   "source": [
    "The first column is the area of the house (in square feet), the second column is the number of bedrooms, and the third column is the price of the house."
   ]
  },
  {
   "cell_type": "markdown",
   "metadata": {},
   "source": [
    "## A. Feature Normalization"
   ]
  },
  {
   "cell_type": "markdown",
   "metadata": {},
   "source": [
    "By looking at the values in housing.txt, you will note that house sizes are about 1000 times the number of bedrooms. When features differ by orders of magnitude, first performing feature\n",
    "scaling can make gradient descent converge much more quickly."
   ]
  },
  {
   "cell_type": "markdown",
   "metadata": {},
   "source": [
    "### A.1 Formulas"
   ]
  },
  {
   "cell_type": "markdown",
   "metadata": {},
   "source": [
    "Given a set of numbers $\\{x^{(1)}, \\ldots, x^{(M)}\\}$ , write down the equations for the mean and standard\n",
    "deviations of these numbers. The standard deviation is a way of measuring how much variation there is in the range of\n",
    "values of a particular feature (most data points will lie within 2 standard deviations of the\n",
    "mean); this is an alternative to taking the range of values (max - min).\n",
    "\n",
    "Equations for mean and standard deviations:"
   ]
  },
  {
   "cell_type": "markdown",
   "metadata": {},
   "source": [
    "$\n",
    "\\mu_x = \\frac{1}{M} \\sum_{i=1}^{M}x_i \\\\\n",
    "\\sigma_x = \\sqrt{\\frac{\\sum_{i=1}^{M}(x_i-\\mu_i)^2}{M}}\n",
    "$"
   ]
  },
  {
   "cell_type": "markdown",
   "metadata": {},
   "source": [
    "### A.2 Functions"
   ]
  },
  {
   "cell_type": "markdown",
   "metadata": {},
   "source": [
    "Write a python function that takes in a list of real numbers and returns the mean and standard deviation for that list."
   ]
  },
  {
   "cell_type": "code",
   "execution_count": 4,
   "metadata": {},
   "outputs": [],
   "source": [
    "def mu_sigma(x):\n",
    "    mu = sum(x)/len(x) #calculating the mean\n",
    "    \n",
    "    total_sum = 0\n",
    "    for i in range(len(x)):\n",
    "        total_sum += (x[i]-mu)**2 #add the number for stan. dev. to sum\n",
    " \n",
    "    sigma = math.sqrt(total_sum/len(x))\n",
    "    \n",
    "    return { 'mean' : mu, 'std' : sigma}"
   ]
  },
  {
   "cell_type": "code",
   "execution_count": 5,
   "metadata": {},
   "outputs": [],
   "source": [
    "assert mu_sigma([1.2,2.3,3.4,4.5,5.6])['mean'] == 3.4\n",
    "assert np.round(mu_sigma([1.2,2.3,3.4,4.5,5.6])['std'],2) == 1.56"
   ]
  },
  {
   "cell_type": "markdown",
   "metadata": {},
   "source": [
    "Write a program that takes as input the dataframe, and creates a file called normalized.bin. To create the normalized variables, subtract the mean value of each feature from the dataset . After subtracting the mean, additionally scale (divide) the feature values by their respective standard deviations.\n",
    "\n",
    "__Implementation Note:__ \n",
    "\n",
    "* When normalizing the features, it is important to store the values used for\n",
    "normalization - the mean value and the standard deviation used for the computations. After\n",
    "learning the parameters from the model, we often want to predict the prices of houses we have\n",
    "not seen before. Given a new x value (living room area and number of bedrooms), we must first\n",
    "normalize x using the mean and standard deviation that we had previously computed from the\n",
    "training set. More on this later.\n",
    "* Sometimes we will choose to not normalize the dependent variable (y), here we opt to normalize it for the sake of simplicity."
   ]
  },
  {
   "cell_type": "code",
   "execution_count": 6,
   "metadata": {},
   "outputs": [
    {
     "data": {
      "text/html": [
       "<div>\n",
       "<style scoped>\n",
       "    .dataframe tbody tr th:only-of-type {\n",
       "        vertical-align: middle;\n",
       "    }\n",
       "\n",
       "    .dataframe tbody tr th {\n",
       "        vertical-align: top;\n",
       "    }\n",
       "\n",
       "    .dataframe thead th {\n",
       "        text-align: right;\n",
       "    }\n",
       "</style>\n",
       "<table border=\"1\" class=\"dataframe\">\n",
       "  <thead>\n",
       "    <tr style=\"text-align: right;\">\n",
       "      <th></th>\n",
       "      <th>area</th>\n",
       "      <th>bedrooms</th>\n",
       "      <th>price</th>\n",
       "    </tr>\n",
       "  </thead>\n",
       "  <tbody>\n",
       "    <tr>\n",
       "      <th>0</th>\n",
       "      <td>0.131415</td>\n",
       "      <td>-0.226093</td>\n",
       "      <td>0.480890</td>\n",
       "    </tr>\n",
       "    <tr>\n",
       "      <th>1</th>\n",
       "      <td>-0.509641</td>\n",
       "      <td>-0.226093</td>\n",
       "      <td>-0.084983</td>\n",
       "    </tr>\n",
       "    <tr>\n",
       "      <th>2</th>\n",
       "      <td>0.507909</td>\n",
       "      <td>-0.226093</td>\n",
       "      <td>0.231097</td>\n",
       "    </tr>\n",
       "    <tr>\n",
       "      <th>3</th>\n",
       "      <td>-0.743677</td>\n",
       "      <td>-1.554392</td>\n",
       "      <td>-0.876398</td>\n",
       "    </tr>\n",
       "    <tr>\n",
       "      <th>4</th>\n",
       "      <td>1.271071</td>\n",
       "      <td>1.102205</td>\n",
       "      <td>1.612637</td>\n",
       "    </tr>\n",
       "  </tbody>\n",
       "</table>\n",
       "</div>"
      ],
      "text/plain": [
       "       area  bedrooms     price\n",
       "0  0.131415 -0.226093  0.480890\n",
       "1 -0.509641 -0.226093 -0.084983\n",
       "2  0.507909 -0.226093  0.231097\n",
       "3 -0.743677 -1.554392 -0.876398\n",
       "4  1.271071  1.102205  1.612637"
      ]
     },
     "execution_count": 6,
     "metadata": {},
     "output_type": "execute_result"
    }
   ],
   "source": [
    "import pickle \n",
    "\n",
    "def normalize_dataset(df):\n",
    "    norm_param = []\n",
    "    \n",
    "    for col in df:\n",
    "        norm_param.append((mu_sigma(df[col])['mean'], mu_sigma(df[col])['std']))\n",
    "        df[col] = ((df[col] - mu_sigma(df[col])['mean']) / mu_sigma(df[col])['std'])\n",
    "        \n",
    "    \n",
    "    #save normalized values to file \n",
    "    with open(r\"data/normalized.bin\", \"wb\" )  as fh:\n",
    "        pickle.dump(df,fh)\n",
    "    \n",
    "    #save normalized parameters to file \n",
    "    with open(r\"data/normalized_params.bin\", \"wb\" )  as fh:\n",
    "        pickle.dump(norm_param,fh)\n",
    "\n",
    "norm_parameters = normalize_dataset(df)\n",
    "df.head()\n"
   ]
  },
  {
   "cell_type": "markdown",
   "metadata": {},
   "source": [
    "## B. Gradient Descent to Find Regression Weights"
   ]
  },
  {
   "cell_type": "markdown",
   "metadata": {},
   "source": [
    "Our hypothesis (also called the model) will take the form $y=f(x_{1},x_{2})=w_{0}+w_{1}x_{1}+w_{2}x_{2}$ where $x_1$ is the normalized size of the house, $x_2$ is the normalized number of bedrooms, and y is the predicted price of the house. In this problem, your goal is to find the values of $w_0$, $w_1$, and $w_2$ that minimize the mean of the sum of the squared errors (MSE). Read through this whole section (B) before programming."
   ]
  },
  {
   "cell_type": "markdown",
   "metadata": {},
   "source": [
    "### B.1 Loss function and gradient"
   ]
  },
  {
   "cell_type": "markdown",
   "metadata": {},
   "source": [
    "Suppose there are $M$ examples. Write down the formula for the loss function $\\mathcal{J}(\\boldsymbol{w})$ using the sum of the squared errors. Be sure to include a $\\frac{1}{2M}$ term. "
   ]
  },
  {
   "cell_type": "markdown",
   "metadata": {},
   "source": [
    "$\n",
    "\\mathcal{J}(\\mathbf{w}) = \\frac{1}{2M}\\sum_{i=1}^{M}(y^{(i)} - (w_{0}+w_{1}x_{1}+w_{2}x_{2}))^2\\\\\n",
    "\\frac{\\partial J(w_0,w_1,w_2)}{\\partial w_0} =  \\frac{1}{M}\\sum_{i=1}^{M}(w_0 + w_1x^{(i)} + w_2x^{(i)} - y^{(i)})\\\\\n",
    "\\frac{\\partial J(w_0,w_1,w_2)}{\\partial w_1} = \\frac{1}{M}\\sum_{i=1}^{M}(w_0 + w_1x^{(i)} + w_2x^{(i)} - y^{(i)})x_1^{(i)}\\\\\n",
    "\\frac{\\partial J(w_0,w_2,w_2)}{\\partial w_2} = \\frac{1}{M}\\sum_{i=1}^{M}(w_0 + w_1x^{(i)} + w_2x^{(i)} - y^{(i)})x_2^{(i)}\\\\\n",
    "$\n"
   ]
  },
  {
   "cell_type": "markdown",
   "metadata": {},
   "source": [
    "### B.2 Implementation"
   ]
  },
  {
   "cell_type": "markdown",
   "metadata": {},
   "source": [
    "Create a function to calculate the gradient for the loss function as found in Step B.1 (taking into account all terms, including the bias $w_0$).\n",
    "\n",
    "__Implementation note__: \n",
    "\n",
    "* create your function so that it will work for any dimension of w. For instance, if you have 50 variables and 1000 observations, it should work for vectors of size $\\mathbf X: 1000 \\times 50$,  $\\mathbf y : 1000 \\times 1$, $\\mathbf w: 50 \\times 1$\n",
    "\n",
    "* At all times, check the shapes of your matrices and vectors. \n",
    "\n",
    "* Try to avoid for loops at all cost. \n",
    "\n",
    "* You can use numpy to calculate dot products (np.dot(x)) and vector sums (np.sum(x)).\n",
    "\n",
    "* When doing operations (+,-,*,/) on a matrix/vector pair in numpy, take into account that numpy has peculiar rules in terms of output depending on the sizes of the inputs. You can find more about broadcasting [here](http://www.scipy-lectures.org/intro/numpy/operations.html#broadcasting)"
   ]
  },
  {
   "cell_type": "code",
   "execution_count": 7,
   "metadata": {},
   "outputs": [],
   "source": [
    "def calc_gradient(y,X,w):\n",
    "    \n",
    "    #Checks to make sure vectors are of the same size\n",
    "    assert X.shape[0] == y.shape[0]\n",
    "    assert X.shape[1] == w.shape[0]\n",
    "    assert y.shape[1] == w.shape[1] == 1\n",
    "    \n",
    "    y_est = X.dot(w).flatten() #flatten returns a 1-D copy of the original matrix\n",
    "    error = y.flatten() - y_est\n",
    "    gradient = -(1.0/len(X)) * error.dot(X)\n",
    "    \n",
    "    return {'gradient': gradient.T,'loss': (1.0/len(X))*np.sum(np.power(error, 2))}\n"
   ]
  },
  {
   "cell_type": "markdown",
   "metadata": {},
   "source": [
    "### B.3 Gradient Descent"
   ]
  },
  {
   "cell_type": "markdown",
   "metadata": {},
   "source": [
    "Load the normalized dataset and split it in two parts:\n",
    "* X : A (47,3) shaped np.matrix containing a bias vector (all ones), then area, and then #bedrooms\n",
    "* y : A (47,1) shaped np.matrix containing the price\n",
    "\n",
    "__Implementation Note:__ You can use np.ones() and np.hstack to add the bias term to the X"
   ]
  },
  {
   "cell_type": "code",
   "execution_count": 8,
   "metadata": {},
   "outputs": [],
   "source": [
    "with open(r\"data/normalized.bin\", \"rb\") as fh:\n",
    "    df = pickle.load(fh)\n",
    "    \n",
    "#assert not(type(mss) is None), \"Wasn't able to load the file...\"\n",
    "bias_vector = np.ones((47,))\n",
    "area = df.loc[: , \"area\"]\n",
    "bedrooms = df.loc[: , \"bedrooms\"]\n",
    "price = df.loc[: , \"price\"]\n",
    "\n",
    "new_df = np.column_stack((bias_vector, area.values, bedrooms.values))\n",
    "\n",
    "X = np.matrix(new_df)\n",
    "y = np.matrix(price).T"
   ]
  },
  {
   "cell_type": "code",
   "execution_count": 9,
   "metadata": {},
   "outputs": [],
   "source": [
    "assert y.shape == (47,1)\n",
    "assert (len(np.where(X[0,:] == 399900)[0]) == 0),\"You shouldn't have the price variable in your X matrix.\"             \n",
    "assert X.shape == (47,3),\"Did you add the bias term?\"\n",
    "assert (X[0,0] == 1),\"The first column of X should contain the bias term (a column of all ones).\""
   ]
  },
  {
   "cell_type": "markdown",
   "metadata": {},
   "source": [
    "Implement gradient descent to find the values $w_{0}$ ,$w_{1}$, and $w_{2}$ that minimize $\\mathcal{J}(\\boldsymbol{w})$. Apply your code to the normalized data set using the learning rates $\\alpha=[1.3,0.1,0.05,0.01]$ and a total of 25 passes through the dataset."
   ]
  },
  {
   "cell_type": "code",
   "execution_count": 10,
   "metadata": {},
   "outputs": [
    {
     "name": "stdout",
     "output_type": "stream",
     "text": [
      "\n",
      "- Alpha value: 1.3 -\n",
      "\n",
      "iter: 5, err: 0.9398\n",
      "iter: 10, err: 1.1531\n",
      "iter: 15, err: 1.4344\n",
      "iter: 20, err: 1.8051\n",
      "iter: 25, err: 2.2934\n",
      "\n",
      "- Alpha value: 0.1 -\n",
      "\n",
      "iter: 5, err: 0.5410\n",
      "iter: 10, err: 0.3786\n",
      "iter: 15, err: 0.3266\n",
      "iter: 20, err: 0.3029\n",
      "iter: 25, err: 0.2895\n",
      "\n",
      "- Alpha value: 0.05 -\n",
      "\n",
      "iter: 5, err: 0.7107\n",
      "iter: 10, err: 0.5218\n",
      "iter: 15, err: 0.4264\n",
      "iter: 20, err: 0.3748\n",
      "iter: 25, err: 0.3445\n",
      "\n",
      "- Alpha value: 0.01 -\n",
      "\n",
      "iter: 5, err: 0.9295\n",
      "iter: 10, err: 0.8523\n",
      "iter: 15, err: 0.7854\n",
      "iter: 20, err: 0.7275\n",
      "iter: 25, err: 0.6773\n"
     ]
    }
   ],
   "source": [
    "def gradient_descent(y,X,w,num_iterations,alpha,show_detailed):\n",
    "        iteration = 1\n",
    "        error_vals = []\n",
    "        \n",
    "        print(\"\\n- Alpha value: \" + str(alpha) + \" -\\n\")\n",
    "        \n",
    "        while iteration <= num_iterations:\n",
    "\n",
    "            #Get the gradient at each step\n",
    "            result = calc_gradient(y, X, w)\n",
    "            gradient = result['gradient']\n",
    "            error = result['loss']\n",
    "            \n",
    "            #Adjust weights based on gradient & learning rate\n",
    "            new_w = w - alpha * gradient\n",
    "            \n",
    "            #Print status at specified intervals\n",
    "            if iteration % 5 == 0:\n",
    "                if show_detailed:\n",
    "                    print(\"iter: %d, bias: %.4f, area: %.4f, bed: %.4f, err: %.4f\" %(iteration, new_w[0], new_w[1], new_w[2], np.sum(error)))\n",
    "                else:\n",
    "                    print(\"iter: %d, err: %.4f\" %(iteration, np.sum(error)))\n",
    "            iteration += 1\n",
    "            w = new_w\n",
    "            \n",
    "            #Each time we iterate we take the sum of the error and append it\n",
    "            error_vals.append(np.sum(error))\n",
    "\n",
    "        # Now that we've kept track of the error at each alpha & iteration we can measure performance\n",
    "        err = np.array(error_vals)\n",
    "        return err, w\n",
    "        \n",
    "alpha_count = 0\n",
    "alphas = [1.3,.10,0.05,0.01]\n",
    "num_iterations = 25\n",
    "\n",
    "alpha_err = np.zeros((num_iterations,len(alphas)))\n",
    "w_random = np.zeros((X.shape[1],1))\n",
    "\n",
    "for alpha in alphas:\n",
    "    err, w = gradient_descent(y,X,w_random,num_iterations,alpha,False)\n",
    "    alpha_err[:, alpha_count] = err\n",
    "    alpha_count += 1"
   ]
  },
  {
   "cell_type": "markdown",
   "metadata": {},
   "source": [
    " A good way to verify that gradient descent is working correctly is to look at the value of $\\mathcal{J}(\\boldsymbol{w})$ and check that it is decreasing with each step. Assuming you have implemented gradient descent correctly and your learning rate is not too big, your value of $\\mathcal{J}(\\boldsymbol{w})$ should never increase, and should converge to a steady value by the end of the algorithm. \n",
    "    \n",
    "Plot $\\mathcal{J}(\\boldsymbol{w})$ for 25 iterations for each of your $\\alpha$ values. "
   ]
  },
  {
   "cell_type": "code",
   "execution_count": 11,
   "metadata": {},
   "outputs": [
    {
     "data": {
      "image/png": "[encoded data removed]",
      "text/plain": [
       "<Figure size 432x288 with 1 Axes>"
      ]
     },
     "metadata": {
      "needs_background": "light"
     },
     "output_type": "display_data"
    }
   ],
   "source": [
    "plt.semilogy(alpha_err[:, 0], label='\\u03B1 1.3');\n",
    "plt.semilogy(alpha_err[:, 1], label='\\u03B1 .1');\n",
    "plt.semilogy(alpha_err[:, 2], label='\\u03B1 .05');\n",
    "plt.semilogy(alpha_err[:, 3], label='\\u03B1 .01');\n",
    "plt.xlabel(\"Iteration\")\n",
    "plt.ylabel(\"Loss\")\n",
    "plt.title(\"Loss with Respect to \\u03B1\")\n",
    "plt.legend();"
   ]
  },
  {
   "cell_type": "markdown",
   "metadata": {},
   "source": [
    "**Describe the figure and reflect on your findings:**"
   ]
  },
  {
   "cell_type": "markdown",
   "metadata": {},
   "source": [
    "### Alpha values\n",
    "I found this exercise particularly useful in understanding the importance of tuning hyperparameters to yield the best performance:\n",
    "\n",
    "$ \\alpha  = 1.3: $\n",
    "As expected, the first alpha value of 1.3 overshoots the minimum and continues to increase, never converging. \n",
    "\n",
    "$ \\alpha  = .01: $ \n",
    "The alpha value of .01 took too long and never converged since the steps while calculating the gradient were too small\n",
    "\n",
    "$ \\alpha  = .05, .1: $\n",
    "The alpha values of .05 and .1 yielded the best performance and found convergence\n",
    " \n",
    "\n",
    "### Considerations\n",
    "As specified in the assignment we are asked to calculate the gradient/loss for 25 iterations at four seperate alpha values. However, I imagine that a more empirical way to find the best alpha this is to assign a threshold of convergence and break the loop once the algorithm reaches that threshold (and of course a ceiling if it never converges). Then, after testing a series of different alpha values, the value that offers the fastest convergence serves as the best alpha for that scenario. "
   ]
  },
  {
   "cell_type": "markdown",
   "metadata": {},
   "source": [
    "## C. Predicting House Prices"
   ]
  },
  {
   "cell_type": "markdown",
   "metadata": {},
   "source": [
    "You will now use your best estimate of $\\boldsymbol{w}$, obtained in the previous part to predict the housing prices. Predict the price of a house with 1650 square feet and 3 bedrooms. \n",
    "\n",
    "**Implementation Notes:** Don't forget to normalize your features when you make this prediction! "
   ]
  },
  {
   "cell_type": "code",
   "execution_count": 12,
   "metadata": {},
   "outputs": [
    {
     "name": "stdout",
     "output_type": "stream",
     "text": [
      "\n",
      "- Alpha value: 0.1 -\n",
      "\n",
      "iter: 5, err: 0.5410\n",
      "iter: 10, err: 0.3786\n",
      "iter: 15, err: 0.3266\n",
      "iter: 20, err: 0.3029\n",
      "iter: 25, err: 0.2895\n",
      "Predicted price USD $297722.05\n"
     ]
    }
   ],
   "source": [
    "def normalize_val(val, n_params):\n",
    "    n_area = (val - n_params[0][0]) / n_params[0][1]\n",
    "    n_bedrooms = (val - n_params[1][0]) / n_params[1][1]\n",
    "    n_price = (val - n_params[2][0]) / n_params[2][1]\n",
    "    return{'area': n_area, 'bedrooms': n_bedrooms, 'price': n_price }\n",
    "\n",
    "def denormalize_val(val, n_params):\n",
    "    n_area = (val * n_params[0][1]) + n_params[0][0]\n",
    "    n_bedrooms = (val * n_params[1][1]) + n_params[1][0]\n",
    "    n_price = (val * n_params[2][1]) + n_params[2][0]\n",
    "    \n",
    "    return{'area': n_area, 'bedrooms': n_bedrooms, 'price': n_price }\n",
    "\n",
    "with open(r\"data/normalized_params.bin\", \"rb\") as fh:\n",
    "    n_params = pickle.load(fh)\n",
    "\n",
    "pred_X = np.array([1,normalize_val(1650, n_params)[\"area\"], normalize_val(3, n_params)[\"bedrooms\"]])\n",
    "\n",
    "w_zeros = np.zeros((X.shape[1],1))\n",
    "err, w = gradient_descent(y,X,w_zeros,25,.1,False)\n",
    "\n",
    "final_weights = np.array([w.item(0), w.item(1), w.item(2)])\n",
    "\n",
    "#print(final_weights)\n",
    "\n",
    "price = denormalize_val(np.sum(final_weights * pred_X), n_params)['price']\n",
    "\n",
    "print(\"Predicted price USD $%.2f\" % price)"
   ]
  },
  {
   "cell_type": "markdown",
   "metadata": {},
   "source": [
    "## D. Stochastic Gradient Descent"
   ]
  },
  {
   "cell_type": "markdown",
   "metadata": {},
   "source": [
    "Using a learning rate of $\\alpha=0.05$ to find the values $w_{0}$ ,$w_{1}$ , and $w_{2}$ using stochastic gradient descent (SGD). Make ten passes through the data set, and provide $\\mathcal{J}(\\boldsymbol{w})$ after each pass. Randomly shuffle the data set after each pass. \n",
    "\n",
    "1. Plot the evolution of the loss and compare it to the plot you made before in B.3\n",
    "2. How does $\\mathcal{J}(\\boldsymbol{w})$ compare to the one you obtained in Section B? Why?\n",
    "3. Also comment on the computation time of the two approaches. \n",
    "\n",
    "__Implementation Notes:__\n",
    "* When adding random elements to your algorithms, it is useful to set the random seed (np.random.seed(123)) to ensure consistency for debugging.\n",
    "* In question D.2, you are asked to plot after each update as opposed to after each epoch."
   ]
  },
  {
   "cell_type": "code",
   "execution_count": 13,
   "metadata": {},
   "outputs": [
    {
     "name": "stdout",
     "output_type": "stream",
     "text": [
      "Epoch: 1 - Error: 0.2914\n",
      "Epoch: 2 - Error: 0.2748\n",
      "Epoch: 3 - Error: 0.2721\n",
      "Epoch: 4 - Error: 0.2790\n",
      "Epoch: 5 - Error: 0.2754\n",
      "Epoch: 6 - Error: 0.2674\n",
      "Epoch: 7 - Error: 0.2809\n",
      "Epoch: 8 - Error: 0.2759\n",
      "Epoch: 9 - Error: 0.2703\n"
     ]
    },
    {
     "data": {
      "text/plain": [
       "Text(0,0.5,'Loss')"
      ]
     },
     "execution_count": 13,
     "metadata": {},
     "output_type": "execute_result"
    },
    {
     "data": {
      "image/png": "[encoded data removed]",
      "text/plain": [
       "<Figure size 432x288 with 1 Axes>"
      ]
     },
     "metadata": {
      "needs_background": "light"
     },
     "output_type": "display_data"
    }
   ],
   "source": [
    "def stochastic_gd(y,X,w,num_epochs,alpha):\n",
    "\n",
    "    epoch = 1\n",
    "    decay = 0.95\n",
    "    error_vals = []\n",
    "    \n",
    "    while epoch < num_epochs:\n",
    "        np.random.seed(123)\n",
    "        rand_index = np.random.permutation(len(X))\n",
    "        X = X[rand_index]\n",
    "        y = y[rand_index]\n",
    "        b = 0\n",
    "        \n",
    "        while b < len(X):\n",
    "            tX = X[b : b + 1]\n",
    "            ty = y[b : b + 1]\n",
    "            \n",
    "            res = calc_gradient(ty, tX, w)\n",
    "            gradient = res['gradient']\n",
    "            \n",
    "            res_2 = calc_gradient(y, X, w)\n",
    "            error = res_2['loss']\n",
    "            \n",
    "            w -= alpha * gradient\n",
    "            b += 1\n",
    "            error_vals.append(np.sum(error))\n",
    "\n",
    "        if epoch % 1 == 0:\n",
    "            res_2 = calc_gradient(y, X, w)\n",
    "            error = res_2[\"loss\"]\n",
    "            print(\"Epoch: %d - Error: %.4f\" %(epoch, np.sum(error)))\n",
    "\n",
    "        epoch += 1\n",
    "        alpha = alpha * (decay ** int(epoch/1000))\n",
    "    \n",
    "    err = np.array(error_vals) \n",
    "    return err, w\n",
    "\n",
    "\n",
    "alpha = .05\n",
    "num_epochs = 10\n",
    "\n",
    "w_random = np.zeros((X.shape[1],1))\n",
    "\n",
    "err, w = stochastic_gd(y,X,w_random,num_epochs,alpha)\n",
    "\n",
    "plt.semilogy(err);\n",
    "plt.title(\"Stochastic Gradient Descent Loss\")\n",
    "plt.xlabel(\"Updates\")\n",
    "plt.ylabel(\"Loss\")"
   ]
  },
  {
   "cell_type": "markdown",
   "metadata": {},
   "source": [
    "### Comparing Loss\n",
    "\n",
    "As we might have expected, the loss evolution is far more sporatic than the original gradient descent, but finds convergence equally as fast. During each epoch we randomly shuffle our features dataset and then take the gradient at each point rather than over the whole dataset. This is particularly effective for complex functions since it will find the global minimum faster and is less susceptible to converging to a local minimum. However, since the model is relatively simple, this tradeoff doesnt really come in to play. \n",
    "\n",
    "### Speed\n",
    "\n",
    "SGD is best suited to take advantage of large datasets, however, since this dataset is so small the benefit of speed is difficult to observe. If anything, SGD takes longer to compute since it calculates the gradient more frequently, resulting in a longer runtime. "
   ]
  },
  {
   "cell_type": "code",
   "execution_count": null,
   "metadata": {},
   "outputs": [],
   "source": []
  }
 ],
 "metadata": {
  "kernelspec": {
   "display_name": "Python 3",
   "language": "python",
   "name": "python3"
  },
  "language_info": {
   "codemirror_mode": {
    "name": "ipython",
    "version": 3
   },
   "file_extension": ".py",
   "mimetype": "text/x-python",
   "name": "python",
   "nbconvert_exporter": "python",
   "pygments_lexer": "ipython3",
   "version": "3.6.6"
  }
 },
 "nbformat": 4,
 "nbformat_minor": 2
}
